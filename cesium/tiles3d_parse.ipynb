{
 "cells": [
  {
   "cell_type": "markdown",
   "metadata": {},
   "source": [
    "# 解析3D Tiles中二进制文件"
   ]
  },
  {
   "cell_type": "code",
   "execution_count": 34,
   "metadata": {},
   "outputs": [],
   "source": [
    "class B3DM:\n",
    "    def __init__(self, bytes):\n",
    "        self.bytes = bytes\n",
    "        self.parse()\n",
    "    def parse(self):\n",
    "        self.magic = str(self.bytes[0:4])\n",
    "        self.version = int.from_bytes(self.bytes[4:8], 'little')\n",
    "        self.byteLength = int.from_bytes(self.bytes[8:12], 'little')\n",
    "        self.ftJsonLen = int.from_bytes(self.bytes[12:16], 'little')\n",
    "        self.ftBinLen = int.from_bytes(self.bytes[16:20], 'little')\n",
    "        self.btJsonLen = int.from_bytes(self.bytes[20:24], 'little')\n",
    "        self.btBinLen = int.from_bytes(self.bytes[24:28], 'little')\n",
    "    def ftJsonData(self):\n",
    "        return self.bytes[28:28+self.ftJsonLen]\n",
    "    def ftBinData(self):\n",
    "        return self.bytes[28+self.ftJsonLen:28+self.ftJsonLen+self.ftBinLen]\n",
    "    def btJsonData(self):\n",
    "        return self.bytes[28+self.ftJsonLen+self.ftBinLen:28+self.ftJsonLen+self.ftBinLen+self.btJsonLen]\n",
    "    def btBinData(self):\n",
    "        return self.bytes[28+self.ftJsonLen+self.ftBinLen+self.btJsonLen:28+self.ftJsonLen+self.ftBinLen+self.btJsonLen+self.btBinLen]\n",
    "    def glTFData(self):\n",
    "        return self.bytes[\n",
    "            28+self.ftJsonLen+self.ftBinLen+self.btJsonLen+self.btBinLen:\n",
    "            self.byteLength\n",
    "        ]\n",
    "    def saveGlTFData(self, path):\n",
    "        with open(path, 'wb') as fout:\n",
    "            fout.write(self.glTFData())\n",
    "        "
   ]
  },
  {
   "cell_type": "code",
   "execution_count": 35,
   "metadata": {},
   "outputs": [],
   "source": [
    "\n",
    "class CompositeTile:\n",
    "    def __init__(self, bytes):\n",
    "        self.bytes = bytes\n",
    "        self.parse()\n",
    "    def parse(self):\n",
    "        self.magic = str(self.bytes[0:4])\n",
    "        self.version = int.from_bytes(self.bytes[4:8], 'little')\n",
    "        self.byteLength = int.from_bytes(self.bytes[8:12], 'little')\n",
    "        self.tilesLen = int.from_bytes(self.bytes[12:16], 'little')\n",
    "        cur = 16\n",
    "        self.tiles = []\n",
    "        for i in range(self.tilesLen):\n",
    "            the_magic = self.bytes[cur:cur+4]\n",
    "            the_len = int.from_bytes(self.bytes[cur+8:cur+12], 'little')\n",
    "            tile = None\n",
    "            if the_magic==b'cmpt':\n",
    "                self.tiles.append(CompositeTile(self.bytes[cur:cur+the_len]))\n",
    "            elif the_magic==b'b3dm':\n",
    "                self.tiles.append(B3DM(self.bytes[cur:cur+the_len]))\n",
    "            elif the_magic==b'i3dm':\n",
    "                # TODO\n",
    "                pass\n",
    "            elif the_magic==b'pnts':\n",
    "                # TODO\n",
    "                pass\n",
    "            else:\n",
    "                print(\"ERROR\")\n",
    "            cur += the_len   "
   ]
  },
  {
   "cell_type": "code",
   "execution_count": 36,
   "metadata": {},
   "outputs": [
    {
     "name": "stdout",
     "output_type": "stream",
     "text": [
      "b'cmpt'\n"
     ]
    },
    {
     "data": {
      "text/plain": [
       "<__main__.CompositeTile at 0x7fc29a4ce640>"
      ]
     },
     "execution_count": 36,
     "metadata": {},
     "output_type": "execute_result"
    }
   ],
   "source": [
    "psfsPath = \"../data/tiles3d/PSFS/0composite0.cmpt\"\n",
    "with open(psfsPath,'rb') as f:\n",
    "    bytes = f.read()\n",
    "magic = bytes[0:4]\n",
    "tile = None\n",
    "if magic==b'cmpt':\n",
    "    tile = CompositeTile(bytes)\n",
    "elif magic==b'b3dm':\n",
    "    tile = B3DM(bytes) \n",
    "elif magic==b'i3dm':\n",
    "    # TODO\n",
    "    pass\n",
    "elif magic==b'pnts':\n",
    "    # TODO\n",
    "    pass\n",
    "else:\n",
    "    print(\"ERROR\")\n",
    "tile"
   ]
  },
  {
   "cell_type": "code",
   "execution_count": 37,
   "metadata": {},
   "outputs": [],
   "source": [
    "tile.tiles[0].saveGlTFData('../data/gltf/psfs/tile1.glb')"
   ]
  },
  {
   "cell_type": "code",
   "execution_count": 38,
   "metadata": {},
   "outputs": [],
   "source": [
    "tile.tiles[1].saveGlTFData('../data/gltf/psfs/tile2.glb')"
   ]
  }
 ],
 "metadata": {
  "kernelspec": {
   "display_name": "Python 3.8.6 ('ox')",
   "language": "python",
   "name": "python3"
  },
  "language_info": {
   "codemirror_mode": {
    "name": "ipython",
    "version": 3
   },
   "file_extension": ".py",
   "mimetype": "text/x-python",
   "name": "python",
   "nbconvert_exporter": "python",
   "pygments_lexer": "ipython3",
   "version": "3.8.6"
  },
  "orig_nbformat": 4,
  "vscode": {
   "interpreter": {
    "hash": "1f213e57850a846c49dcbf60bae108795bb6f2692884a6ff0ded4face2c66ef7"
   }
  }
 },
 "nbformat": 4,
 "nbformat_minor": 2
}

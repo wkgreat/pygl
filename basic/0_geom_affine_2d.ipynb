{
 "cells": [
  {
   "cell_type": "code",
   "execution_count": 1,
   "metadata": {},
   "outputs": [],
   "source": [
    "import numpy as np\n",
    "import math\n",
    "from ipycanvas import Canvas, hold_canvas\n",
    "from time import sleep"
   ]
  },
  {
   "cell_type": "code",
   "execution_count": 2,
   "metadata": {},
   "outputs": [],
   "source": [
    "CANVAS_HEIGTH = 200\n",
    "CANVAS_WIDTH = 200\n",
    "CANVAS_X_OFFSET = CANVAS_WIDTH / 2\n",
    "CANVAS_Y_OFFSET = CANVAS_HEIGTH / 2\n",
    "CANVAS_XLIM = (-CANVAS_X_OFFSET, CANVAS_WIDTH-CANVAS_X_OFFSET)\n",
    "CANVAS_YLIM = (-CANVAS_Y_OFFSET, CANVAS_HEIGTH-CANVAS_Y_OFFSET)"
   ]
  },
  {
   "cell_type": "code",
   "execution_count": 3,
   "metadata": {},
   "outputs": [],
   "source": [
    "def draw_vertices(canvas:Canvas, vertices):\n",
    "    for i in range(1, len(vertices)):\n",
    "        canvas.stroke_line(\n",
    "            int(vertices[i-1,0] + CANVAS_X_OFFSET), \n",
    "            int(canvas.height - vertices[i-1,1] - 1 - CANVAS_Y_OFFSET), \n",
    "            int(vertices[i,0] + CANVAS_X_OFFSET), \n",
    "            int(canvas.height - vertices[i,1]) - 1 - CANVAS_Y_OFFSET)\n",
    "\n",
    "def rotate_z(vertices, a):\n",
    "    m = np.array([\n",
    "        [ math.cos(a), math.sin(a), 0, 0],\n",
    "        [-math.sin(a), math.cos(a), 0, 0],\n",
    "        [ 0,         0,         1, 0],\n",
    "        [ 0,         0,         0, 1],\n",
    "    ])\n",
    "    return vertices @ m\n",
    "\n",
    "def rotate_y(vertices, a):\n",
    "    m = np.array([\n",
    "        [math.cos(a), 0, -math.sin(a), 0],\n",
    "        [0, 1, 0, 0],\n",
    "        [math.sin(a), 0, math.cos(a), 0],\n",
    "        [0, 0, 0, 1]\n",
    "    ])\n",
    "    return vertices @ m\n",
    "\n",
    "def rotate_z(vertices, a):\n",
    "    m = np.array([\n",
    "        [math.cos(a), math.sin(a), 0, 0],\n",
    "        [-math.sin(a), math.cos(a), 0, 0],\n",
    "        [0, 0, 1, 0],\n",
    "        [0, 0, 0, 1]\n",
    "    ])\n",
    "    return vertices @ m\n",
    "\n",
    "def translate(vertices, dx, dy, dz):\n",
    "    m = np.array([\n",
    "        [1, 0, 0, 0],\n",
    "        [0, 1, 0, 0],\n",
    "        [0, 0, 1, 0],\n",
    "        [dx, dy, dz, 1],\n",
    "    ])\n",
    "    return vertices @ m\n",
    "\n",
    "def scale(vertices, sx, sy, sz):\n",
    "    m = np.array([\n",
    "        [sx, 0, 0, 0],\n",
    "        [0, sy, 0, 0],\n",
    "        [0, 0, sz, 0],\n",
    "        [0, 0, 0, 1]\n",
    "    ])\n",
    "    return vertices @ m"
   ]
  },
  {
   "cell_type": "code",
   "execution_count": 4,
   "metadata": {},
   "outputs": [],
   "source": [
    "obj_vertices = np.array([\n",
    "    [-50, -50, 1, 1],\n",
    "    [-50,  50, 1, 1],\n",
    "    [ 50,  50, 1, 1],\n",
    "    [ 50, -50, 1, 1],\n",
    "    [-50, -50, 1, 1]]\n",
    ")"
   ]
  },
  {
   "cell_type": "code",
   "execution_count": 5,
   "metadata": {},
   "outputs": [
    {
     "data": {
      "application/vnd.jupyter.widget-view+json": {
       "model_id": "76c297d92652430db8041702a6cf66c3",
       "version_major": 2,
       "version_minor": 0
      },
      "text/plain": [
       "Canvas(height=200, width=200)"
      ]
     },
     "metadata": {},
     "output_type": "display_data"
    }
   ],
   "source": [
    "canvas = Canvas(height=CANVAS_HEIGTH, width=CANVAS_WIDTH)\n",
    "display(canvas)\n",
    "for s in range(0, 360 + 1):\n",
    "    with hold_canvas():\n",
    "        canvas.clear()\n",
    "        draw_vertices(canvas, rotate_z(obj_vertices, math.radians(s)))\n",
    "    sleep(0.02)"
   ]
  },
  {
   "cell_type": "code",
   "execution_count": 6,
   "metadata": {},
   "outputs": [
    {
     "name": "stdout",
     "output_type": "stream",
     "text": [
      "[[-50 -50   1   1]\n",
      " [-50  50   1   1]\n",
      " [ 50  50   1   1]\n",
      " [ 50 -50   1   1]\n",
      " [-50 -50   1   1]]\n"
     ]
    },
    {
     "data": {
      "text/plain": [
       "array([[-48, -49,   1,   1],\n",
       "       [-48,  51,   1,   1],\n",
       "       [ 52,  51,   1,   1],\n",
       "       [ 52, -49,   1,   1],\n",
       "       [-48, -49,   1,   1]])"
      ]
     },
     "execution_count": 6,
     "metadata": {},
     "output_type": "execute_result"
    }
   ],
   "source": [
    "print(obj_vertices)\n",
    "translate(obj_vertices, 2, 1, 0)"
   ]
  },
  {
   "cell_type": "code",
   "execution_count": 7,
   "metadata": {},
   "outputs": [
    {
     "data": {
      "application/vnd.jupyter.widget-view+json": {
       "model_id": "9c50274290754412b8a3cef1db023ea4",
       "version_major": 2,
       "version_minor": 0
      },
      "text/plain": [
       "Canvas(height=200, width=200)"
      ]
     },
     "metadata": {},
     "output_type": "display_data"
    }
   ],
   "source": [
    "canvas = Canvas(height=CANVAS_HEIGTH, width=CANVAS_WIDTH)\n",
    "display(canvas)\n",
    "\n",
    "dx = 2\n",
    "dy = 1\n",
    "obj = obj_vertices\n",
    "\n",
    "for s in range(500):\n",
    "    obj = translate(obj, dx, dy, 0)\n",
    "    ymax = np.max(obj[:,1])\n",
    "    zmax = np.max(obj[:,2])\n",
    "    if(np.min(obj[:,0])<=CANVAS_XLIM[0] or np.max(obj[:,0])>=CANVAS_XLIM[1]):\n",
    "        dx = -dx\n",
    "    if(np.min(obj[:,1])<=CANVAS_YLIM[0] or np.max(obj[:,1])>=CANVAS_YLIM[1]):\n",
    "        dy = -dy\n",
    "    with hold_canvas():\n",
    "        canvas.clear()\n",
    "        draw_vertices(canvas, obj)\n",
    "    sleep(0.02)"
   ]
  }
 ],
 "metadata": {
  "kernelspec": {
   "display_name": "Python 3.8.6 ('ox')",
   "language": "python",
   "name": "python3"
  },
  "language_info": {
   "codemirror_mode": {
    "name": "ipython",
    "version": 3
   },
   "file_extension": ".py",
   "mimetype": "text/x-python",
   "name": "python",
   "nbconvert_exporter": "python",
   "pygments_lexer": "ipython3",
   "version": "3.8.6"
  },
  "orig_nbformat": 4,
  "vscode": {
   "interpreter": {
    "hash": "1f213e57850a846c49dcbf60bae108795bb6f2692884a6ff0ded4face2c66ef7"
   }
  }
 },
 "nbformat": 4,
 "nbformat_minor": 2
}

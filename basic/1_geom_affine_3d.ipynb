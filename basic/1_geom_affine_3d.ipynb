{
 "cells": [
  {
   "cell_type": "code",
   "execution_count": 1,
   "metadata": {},
   "outputs": [],
   "source": [
    "import numpy as np\n",
    "import math\n",
    "from ipycanvas import Canvas, hold_canvas\n",
    "from time import sleep"
   ]
  },
  {
   "cell_type": "code",
   "execution_count": 2,
   "metadata": {},
   "outputs": [],
   "source": [
    "CANVAS_HEIGTH = 200\n",
    "CANVAS_WIDTH = 200\n",
    "CANVAS_X_OFFSET = CANVAS_WIDTH / 2\n",
    "CANVAS_Y_OFFSET = CANVAS_HEIGTH / 2\n",
    "CANVAS_XLIM = (-CANVAS_X_OFFSET, CANVAS_WIDTH-CANVAS_X_OFFSET)\n",
    "CANVAS_YLIM = (-CANVAS_Y_OFFSET, CANVAS_HEIGTH-CANVAS_Y_OFFSET)"
   ]
  },
  {
   "cell_type": "code",
   "execution_count": 3,
   "metadata": {},
   "outputs": [],
   "source": [
    "def draw_seg(canvas:Canvas, v1, v2):\n",
    "    canvas.stroke_line(\n",
    "        int(v1[0] + CANVAS_X_OFFSET), \n",
    "        int(canvas.height - v1[1] - 1 - CANVAS_Y_OFFSET), \n",
    "        int(v2[0] + CANVAS_X_OFFSET), \n",
    "        int(canvas.height - v2[1]) - 1 - CANVAS_Y_OFFSET)\n",
    "\n",
    "def draw_vertices(canvas:Canvas, vertices):\n",
    "    for i in range(1, len(vertices)):\n",
    "        draw_seg(canvas, vertices[i-1], vertices[i])\n",
    "        \n",
    "def rotate_x(vertices, a):\n",
    "    m = np.array([\n",
    "        [1, 0, 0, 0],\n",
    "        [0, math.cos(a), math.sin(a), 0],\n",
    "        [0, -math.sin(a), math.cos(a), 0],\n",
    "        [0, 0, 0, 1]\n",
    "    ])\n",
    "    return vertices @ m\n",
    "\n",
    "def rotate_y(vertices, a):\n",
    "    m = np.array([\n",
    "        [math.cos(a), 0, -math.sin(a), 0],\n",
    "        [0, 1, 0, 0],\n",
    "        [math.sin(a), 0, math.cos(a), 0],\n",
    "        [0, 0, 0, 1]\n",
    "    ])\n",
    "    return vertices @ m\n",
    "\n",
    "def rotate_z(vertices, a):\n",
    "    m = np.array([\n",
    "        [math.cos(a), math.sin(a), 0, 0],\n",
    "        [-math.sin(a), math.cos(a), 0, 0],\n",
    "        [0, 0, 1, 0],\n",
    "        [0, 0, 0, 1]\n",
    "    ])\n",
    "    return vertices @ m\n",
    "\n",
    "def translate(vertices, dx, dy, dz):\n",
    "    m = np.array([\n",
    "        [1, 0, 0, 0],\n",
    "        [0, 1, 0, 0],\n",
    "        [0, 0, 1, 0],\n",
    "        [dx, dy, dz, 1],\n",
    "    ])\n",
    "    return vertices @ m\n",
    "\n",
    "def scale(vertices, sx, sy, sz):\n",
    "    m = np.array([\n",
    "        [sx, 0, 0, 0],\n",
    "        [0, sy, 0, 0],\n",
    "        [0, 0, sz, 0],\n",
    "        [0, 0, 0, 1]\n",
    "    ])\n",
    "    return vertices @ m"
   ]
  },
  {
   "cell_type": "code",
   "execution_count": 4,
   "metadata": {},
   "outputs": [],
   "source": [
    "obj_cube_vertices = np.array([\n",
    "    [-50, -50, -50, 1],#0\n",
    "    [-50,  50, -50, 1],#1\n",
    "    [ 50,  50, -50, 1],#2\n",
    "    [ 50, -50, -50, 1],#3\n",
    "    [-50, -50, 50, 1], #4\n",
    "    [-50,  50, 50, 1], #5\n",
    "    [ 50,  50, 50, 1], #6\n",
    "    [ 50, -50, 50, 1]] #7\n",
    ")\n",
    "obj_cube_seg_indices = np.array([\n",
    "    0,1,1,2,2,3,3,0,\n",
    "    4,5,5,6,6,7,7,4,\n",
    "    0,4,1,5,2,6,3,7\n",
    "])\n",
    "\n",
    "def draw_segments_element(canvas:Canvas, vertices, indices):\n",
    "    for i in range(0, len(indices), 2):\n",
    "        draw_seg(canvas, vertices[indices[i]], vertices[indices[i+1]])\n"
   ]
  },
  {
   "cell_type": "code",
   "execution_count": 5,
   "metadata": {},
   "outputs": [
    {
     "data": {
      "application/vnd.jupyter.widget-view+json": {
       "model_id": "fbb518fe81fd4d14a6e7b843d536535a",
       "version_major": 2,
       "version_minor": 0
      },
      "text/plain": [
       "Canvas(height=200, width=200)"
      ]
     },
     "metadata": {},
     "output_type": "display_data"
    }
   ],
   "source": [
    "canvas = Canvas(height=CANVAS_HEIGTH, width=CANVAS_WIDTH)\n",
    "display(canvas)\n",
    "for s in range(0, 360 + 1):\n",
    "    with hold_canvas():\n",
    "        canvas.clear()\n",
    "        draw_segments_element(canvas, rotate_z(obj_cube_vertices, math.radians(s)), obj_cube_seg_indices)\n",
    "    sleep(0.02)"
   ]
  },
  {
   "cell_type": "code",
   "execution_count": 6,
   "metadata": {},
   "outputs": [
    {
     "data": {
      "application/vnd.jupyter.widget-view+json": {
       "model_id": "a243a43d24a44de4aed4e9110d9cd9ed",
       "version_major": 2,
       "version_minor": 0
      },
      "text/plain": [
       "Canvas(height=200, width=200)"
      ]
     },
     "metadata": {},
     "output_type": "display_data"
    }
   ],
   "source": [
    "canvas = Canvas(height=CANVAS_HEIGTH, width=CANVAS_WIDTH)\n",
    "display(canvas)\n",
    "for s in range(0, 360 + 1):\n",
    "    with hold_canvas():\n",
    "        canvas.clear()\n",
    "        draw_segments_element(canvas, rotate_x(obj_cube_vertices, math.radians(s)), obj_cube_seg_indices)\n",
    "    sleep(0.02)"
   ]
  },
  {
   "cell_type": "code",
   "execution_count": 7,
   "metadata": {},
   "outputs": [
    {
     "data": {
      "application/vnd.jupyter.widget-view+json": {
       "model_id": "d0d4dd9b48204e52b6080127c35a8c94",
       "version_major": 2,
       "version_minor": 0
      },
      "text/plain": [
       "Canvas(height=200, width=200)"
      ]
     },
     "metadata": {},
     "output_type": "display_data"
    }
   ],
   "source": [
    "canvas = Canvas(height=CANVAS_HEIGTH, width=CANVAS_WIDTH)\n",
    "display(canvas)\n",
    "for s in range(0, 360 + 1):\n",
    "    with hold_canvas():\n",
    "        canvas.clear()\n",
    "        draw_segments_element(canvas, rotate_y(obj_cube_vertices, math.radians(s)), obj_cube_seg_indices)\n",
    "    sleep(0.02)"
   ]
  },
  {
   "cell_type": "code",
   "execution_count": 8,
   "metadata": {},
   "outputs": [
    {
     "data": {
      "application/vnd.jupyter.widget-view+json": {
       "model_id": "38ba2588c3114e8f9e76455d79f1e42a",
       "version_major": 2,
       "version_minor": 0
      },
      "text/plain": [
       "Canvas(height=200, width=200)"
      ]
     },
     "metadata": {},
     "output_type": "display_data"
    }
   ],
   "source": [
    "canvas = Canvas(height=CANVAS_HEIGTH, width=CANVAS_WIDTH)\n",
    "display(canvas)\n",
    "for s in range(0, 360 + 1):\n",
    "    with hold_canvas():\n",
    "        canvas.clear()\n",
    "        draw_segments_element(canvas, rotate_x(rotate_y(obj_cube_vertices, math.radians(s)), math.radians(s)), obj_cube_seg_indices)\n",
    "    sleep(0.02)"
   ]
  }
 ],
 "metadata": {
  "kernelspec": {
   "display_name": "Python 3.8.6 ('ox')",
   "language": "python",
   "name": "python3"
  },
  "language_info": {
   "codemirror_mode": {
    "name": "ipython",
    "version": 3
   },
   "file_extension": ".py",
   "mimetype": "text/x-python",
   "name": "python",
   "nbconvert_exporter": "python",
   "pygments_lexer": "ipython3",
   "version": "3.8.6"
  },
  "orig_nbformat": 4,
  "vscode": {
   "interpreter": {
    "hash": "1f213e57850a846c49dcbf60bae108795bb6f2692884a6ff0ded4face2c66ef7"
   }
  }
 },
 "nbformat": 4,
 "nbformat_minor": 2
}

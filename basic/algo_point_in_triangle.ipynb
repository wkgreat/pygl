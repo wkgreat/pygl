{
 "cells": [
  {
   "cell_type": "code",
   "execution_count": 1,
   "metadata": {},
   "outputs": [],
   "source": [
    "import numpy as np\n",
    "from ipycanvas import Canvas\n",
    "import ipywidgets as widgets"
   ]
  },
  {
   "cell_type": "markdown",
   "metadata": {},
   "source": [
    "# 点是否在三角形内\n",
    "\n",
    "使用向量叉积的方式判断点是否在三角形内"
   ]
  },
  {
   "cell_type": "code",
   "execution_count": 2,
   "metadata": {},
   "outputs": [],
   "source": [
    "def p_in_tri(p, triangle):\n",
    "    vs1 = triangle[1:]-triangle[:3]\n",
    "    vs2 = p - triangle[:3]\n",
    "    s = np.sign(np.cross(vs1,vs2)) >= 0\n",
    "    r = all(s == s[0])\n",
    "    return r"
   ]
  },
  {
   "cell_type": "code",
   "execution_count": 3,
   "metadata": {},
   "outputs": [],
   "source": [
    "triangle = np.array([\n",
    "    [50,200],\n",
    "    [100,250],\n",
    "    [10,250],\n",
    "    [50,200]])\n",
    "p = np.array([10,10])\n"
   ]
  },
  {
   "cell_type": "code",
   "execution_count": 4,
   "metadata": {},
   "outputs": [
    {
     "data": {
      "application/vnd.jupyter.widget-view+json": {
       "model_id": "c57fae4cc1704df3a98f2ad5f3bf8128",
       "version_major": 2,
       "version_minor": 0
      },
      "text/plain": [
       "Canvas(height=400, width=400)"
      ]
     },
     "metadata": {},
     "output_type": "display_data"
    },
    {
     "data": {
      "application/vnd.jupyter.widget-view+json": {
       "model_id": "eace0a9ed392404381ddf1f38cd1c572",
       "version_major": 2,
       "version_minor": 0
      },
      "text/plain": [
       "VBox(children=(FloatSlider(value=10.0, description='x:', layout=Layout(width='500px'), max=400.0), FloatSlider…"
      ]
     },
     "execution_count": 4,
     "metadata": {},
     "output_type": "execute_result"
    }
   ],
   "source": [
    "canvas = Canvas(height=400,width=400)\n",
    "display(canvas)\n",
    "\n",
    "def check_p():\n",
    "    r = p_in_tri(p, triangle)\n",
    "    canvas.clear()\n",
    "    for i in range(1,4):\n",
    "        canvas.stroke_line(\n",
    "        float(triangle[i-1,0]),\n",
    "        float(triangle[i-1,1]),\n",
    "        float(triangle[i,0]), \n",
    "        float(triangle[i,1]))\n",
    "    if r: \n",
    "        canvas.fill_style = 'green'\n",
    "    else:\n",
    "        canvas.fill_style = 'red'\n",
    "    \n",
    "    canvas.fill_circle(float(p[0]), float(p[1]), 2)\n",
    "\n",
    "check_p()\n",
    "\n",
    "xSlider = widgets.FloatSlider(value=10, min=0, max=400, description='x:', layout=widgets.Layout(width='500px'))\n",
    "def xChanged(evt):\n",
    "    p[0]=evt.new\n",
    "    check_p()\n",
    "xSlider.observe(xChanged, 'value')\n",
    "\n",
    "ySlider = widgets.FloatSlider(value=10, min=0, max=400, description='y:', layout=widgets.Layout(width='500px'))\n",
    "def yChanged(evt):\n",
    "    p[1]=evt.new\n",
    "    check_p()\n",
    "ySlider.observe(yChanged, 'value')\n",
    "    \n",
    "\n",
    "widgets.VBox([xSlider, ySlider])"
   ]
  }
 ],
 "metadata": {
  "kernelspec": {
   "display_name": "Python 3.8.6 ('ox')",
   "language": "python",
   "name": "python3"
  },
  "language_info": {
   "codemirror_mode": {
    "name": "ipython",
    "version": 3
   },
   "file_extension": ".py",
   "mimetype": "text/x-python",
   "name": "python",
   "nbconvert_exporter": "python",
   "pygments_lexer": "ipython3",
   "version": "3.8.6"
  },
  "orig_nbformat": 4,
  "vscode": {
   "interpreter": {
    "hash": "1f213e57850a846c49dcbf60bae108795bb6f2692884a6ff0ded4face2c66ef7"
   }
  }
 },
 "nbformat": 4,
 "nbformat_minor": 2
}

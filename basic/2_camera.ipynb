{
 "cells": [
  {
   "cell_type": "code",
   "execution_count": 1,
   "metadata": {},
   "outputs": [],
   "source": [
    "import numpy as np\n",
    "import math\n",
    "import ipywidgets as widgets\n",
    "from ipycanvas import Canvas, hold_canvas\n",
    "from time import sleep"
   ]
  },
  {
   "cell_type": "code",
   "execution_count": 2,
   "metadata": {},
   "outputs": [],
   "source": [
    "CANVAS_HEIGTH = 200\n",
    "CANVAS_WIDTH = 200\n",
    "CANVAS_X_OFFSET = CANVAS_WIDTH / 2\n",
    "CANVAS_Y_OFFSET = CANVAS_HEIGTH / 2\n",
    "CANVAS_XLIM = (-CANVAS_X_OFFSET, CANVAS_WIDTH-CANVAS_X_OFFSET)\n",
    "CANVAS_YLIM = (-CANVAS_Y_OFFSET, CANVAS_HEIGTH-CANVAS_Y_OFFSET)"
   ]
  },
  {
   "cell_type": "code",
   "execution_count": 3,
   "metadata": {},
   "outputs": [],
   "source": [
    "def draw_seg(canvas:Canvas, v1, v2):\n",
    "    canvas.stroke_line(\n",
    "        int(v1[0] + CANVAS_X_OFFSET), \n",
    "        int(canvas.height - v1[1] - 1 - CANVAS_Y_OFFSET), \n",
    "        int(v2[0] + CANVAS_X_OFFSET), \n",
    "        int(canvas.height - v2[1]) - 1 - CANVAS_Y_OFFSET)\n",
    "\n",
    "def draw_vertices(canvas:Canvas, vertices):\n",
    "    for i in range(1, len(vertices)):\n",
    "        draw_seg(canvas, vertices[i-1], vertices[i])\n",
    "        \n",
    "def rotate_x(vertices, a):\n",
    "    m = np.array([\n",
    "        [1, 0, 0, 0],\n",
    "        [0, math.cos(a), math.sin(a), 0],\n",
    "        [0, -math.sin(a), math.cos(a), 0],\n",
    "        [0, 0, 0, 1]\n",
    "    ])\n",
    "    return vertices @ m\n",
    "\n",
    "def rotate_y(vertices, a):\n",
    "    m = np.array([\n",
    "        [math.cos(a), 0, -math.sin(a), 0],\n",
    "        [0, 1, 0, 0],\n",
    "        [math.sin(a), 0, math.cos(a), 0],\n",
    "        [0, 0, 0, 1]\n",
    "    ])\n",
    "    return vertices @ m\n",
    "\n",
    "def rotate_z(vertices, a):\n",
    "    m = np.array([\n",
    "        [math.cos(a), math.sin(a), 0, 0],\n",
    "        [-math.sin(a), math.cos(a), 0, 0],\n",
    "        [0, 0, 1, 0],\n",
    "        [0, 0, 0, 1]\n",
    "    ])\n",
    "    return vertices @ m\n",
    "\n",
    "def translate(vertices, dx, dy, dz):\n",
    "    m = np.array([\n",
    "        [1, 0, 0, 0],\n",
    "        [0, 1, 0, 0],\n",
    "        [0, 0, 1, 0],\n",
    "        [dx, dy, dz, 1],\n",
    "    ])\n",
    "    return vertices @ m\n",
    "\n",
    "def scale(vertices, sx, sy, sz):\n",
    "    m = np.array([\n",
    "        [sx, 0, 0, 0],\n",
    "        [0, sy, 0, 0],\n",
    "        [0, 0, sz, 0],\n",
    "        [0, 0, 0, 1]\n",
    "    ])\n",
    "    return vertices @ m"
   ]
  },
  {
   "cell_type": "code",
   "execution_count": 4,
   "metadata": {},
   "outputs": [],
   "source": [
    "# x y z h, p, y\n",
    "class Camera:\n",
    "    def __init__(self, position, heading, pitch, yaw):\n",
    "        self.position = position\n",
    "        self.heading = heading\n",
    "        self.pitch = pitch\n",
    "        self.yaw = yaw\n",
    "    def rotate_matrix(self):\n",
    "        return rotate_z(rotate_x(rotate_y(np.eye(4), -self.heading), -self.pitch), -self.yaw)\n",
    "    def translate_matrix(self):\n",
    "        return translate(np.eye(4), -self.position[0], -self.position[1], -self.position[2])\n",
    "    def view_matrix(self):\n",
    "        return self.rotate_matrix() @ self.translate_matrix()\n",
    "camera = Camera([0,0,0], math.radians(0),math.radians(0),math.radians(0))"
   ]
  },
  {
   "cell_type": "code",
   "execution_count": 5,
   "metadata": {},
   "outputs": [],
   "source": [
    "obj_cube_vertices = np.array([\n",
    "    [-50, -50, -50, 1],#0\n",
    "    [-50,  50, -50, 1],#1\n",
    "    [ 50,  50, -50, 1],#2\n",
    "    [ 50, -50, -50, 1],#3\n",
    "    [-50, -50, 50, 1], #4\n",
    "    [-50,  50, 50, 1], #5\n",
    "    [ 50,  50, 50, 1], #6\n",
    "    [ 50, -50, 50, 1]] #7\n",
    ")\n",
    "obj_cube_seg_indices = np.array([\n",
    "    0,1,1,2,2,3,3,0,\n",
    "    4,5,5,6,6,7,7,4,\n",
    "    0,4,1,5,2,6,3,7\n",
    "])\n",
    "\n",
    "def draw_segments_element(canvas:Canvas, vertices, indices):\n",
    "    for i in range(0, len(indices), 2):\n",
    "        draw_seg(canvas, vertices[indices[i]], vertices[indices[i+1]])\n"
   ]
  },
  {
   "cell_type": "markdown",
   "metadata": {},
   "source": [
    "# 相机角度变换"
   ]
  },
  {
   "cell_type": "code",
   "execution_count": 6,
   "metadata": {},
   "outputs": [
    {
     "data": {
      "application/vnd.jupyter.widget-view+json": {
       "model_id": "439b183f065d4951bbee2d1ec75511d2",
       "version_major": 2,
       "version_minor": 0
      },
      "text/plain": [
       "Canvas(height=200, width=200)"
      ]
     },
     "metadata": {},
     "output_type": "display_data"
    },
    {
     "data": {
      "application/vnd.jupyter.widget-view+json": {
       "model_id": "1967dcbdc40e4faba957c8c535e666d1",
       "version_major": 2,
       "version_minor": 0
      },
      "text/plain": [
       "VBox(children=(FloatSlider(value=0.0, description='heading:', max=360.0), FloatSlider(value=0.0, description='…"
      ]
     },
     "execution_count": 6,
     "metadata": {},
     "output_type": "execute_result"
    }
   ],
   "source": [
    "canvas = Canvas(height=CANVAS_HEIGTH, width=CANVAS_WIDTH)\n",
    "display(canvas)\n",
    "\n",
    "def render():\n",
    "    with hold_canvas():\n",
    "        canvas.clear()\n",
    "        draw_segments_element(canvas, obj_cube_vertices @ camera.view_matrix(), obj_cube_seg_indices)\n",
    "render()\n",
    "\n",
    "headingSlider = widgets.FloatSlider(value=0, min=0, max=360, description='heading:')\n",
    "def headingChanged(evt):\n",
    "    camera.heading = math.radians(evt.new)\n",
    "    render()\n",
    "headingSlider.observe(headingChanged, 'value')\n",
    "\n",
    "pitchSlider = widgets.FloatSlider(value=0, min=0, max=360, description='pitch:')\n",
    "def pitchChanged(evt):\n",
    "    camera.pitch = math.radians(evt.new)\n",
    "    render()\n",
    "pitchSlider.observe(pitchChanged, 'value')\n",
    "\n",
    "yawSlider = widgets.FloatSlider(value=0, min=0, max=360, description='yaw:')\n",
    "def yewChanged(evt):\n",
    "    camera.yaw = math.radians(evt.new)\n",
    "    render()\n",
    "yawSlider.observe(yewChanged, 'value')\n",
    "\n",
    "xSlider = widgets.FloatSlider(value=0, min=-200, max=200, description='x:')\n",
    "def xChanged(evt):\n",
    "    camera.position[0] = evt.new\n",
    "    render()\n",
    "xSlider.observe(xChanged, 'value')\n",
    "\n",
    "ySlider = widgets.FloatSlider(value=0, min=-200, max=200, description='y:')\n",
    "def yChanged(evt):\n",
    "    camera.position[1] = evt.new\n",
    "    render()\n",
    "ySlider.observe(yChanged, 'value')\n",
    "\n",
    "zSlider = widgets.FloatSlider(value=0, min=-200, max=200, description='z:')\n",
    "def zChanged(evt):\n",
    "    camera.position[2] = evt.new\n",
    "    render()\n",
    "zSlider.observe(zChanged, 'value')\n",
    "\n",
    "widgets.VBox([headingSlider, pitchSlider, yawSlider, xSlider, ySlider, zSlider])"
   ]
  }
 ],
 "metadata": {
  "kernelspec": {
   "display_name": "Python 3.8.6 ('ox')",
   "language": "python",
   "name": "python3"
  },
  "language_info": {
   "codemirror_mode": {
    "name": "ipython",
    "version": 3
   },
   "file_extension": ".py",
   "mimetype": "text/x-python",
   "name": "python",
   "nbconvert_exporter": "python",
   "pygments_lexer": "ipython3",
   "version": "3.8.6"
  },
  "orig_nbformat": 4,
  "vscode": {
   "interpreter": {
    "hash": "1f213e57850a846c49dcbf60bae108795bb6f2692884a6ff0ded4face2c66ef7"
   }
  }
 },
 "nbformat": 4,
 "nbformat_minor": 2
}
